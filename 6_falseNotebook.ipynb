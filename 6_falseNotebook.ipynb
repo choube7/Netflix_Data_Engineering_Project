{
 "cells": [
  {
   "cell_type": "code",
   "execution_count": 0,
   "metadata": {
    "application/vnd.databricks.v1+cell": {
     "cellMetadata": {
      "byteLimit": 2048000,
      "rowLimit": 10000
     },
     "inputWidgets": {},
     "nuid": "67a821d3-457e-4557-a95d-48cc6a27eec2",
     "showTitle": false,
     "tableResultSettingsMap": {},
     "title": ""
    }
   },
   "outputs": [
    {
     "output_type": "display_data",
     "data": {
      "text/plain": [
       "\u001B[0;31m---------------------------------------------------------------------------\u001B[0m\n",
       "\u001B[0;31mTypeError\u001B[0m                                 Traceback (most recent call last)\n",
       "File \u001B[0;32m<command-5145899039932207>, line 1\u001B[0m\n",
       "\u001B[0;32m----> 1\u001B[0m var \u001B[38;5;241m=\u001B[39m dbutils\u001B[38;5;241m.\u001B[39mjobs\u001B[38;5;241m.\u001B[39mtaskValues\u001B[38;5;241m.\u001B[39mget(\n",
       "\u001B[1;32m      2\u001B[0m     taskKey\u001B[38;5;241m=\u001B[39m\u001B[38;5;124m\"\u001B[39m\u001B[38;5;124mWeekdayLookup\u001B[39m\u001B[38;5;124m\"\u001B[39m,\n",
       "\u001B[1;32m      3\u001B[0m     key\u001B[38;5;241m=\u001B[39m\u001B[38;5;124m\"\u001B[39m\u001B[38;5;124mweekoutput\u001B[39m\u001B[38;5;124m\"\u001B[39m, debugValue\u001B[38;5;241m=\u001B[39m\u001B[38;5;28;01mNone\u001B[39;00m\n",
       "\u001B[1;32m      4\u001B[0m )\n",
       "\n",
       "File \u001B[0;32m/databricks/python_shell/lib/dbruntime/dbutils.py:208\u001B[0m, in \u001B[0;36mDBUtils.JobsHandler.TaskValuesHandler.get\u001B[0;34m(self, taskKey, key, default, debugValue)\u001B[0m\n",
       "\u001B[1;32m    206\u001B[0m \u001B[38;5;28;01melif\u001B[39;00m \u001B[38;5;124m'\u001B[39m\u001B[38;5;124mNotInJobContextException\u001B[39m\u001B[38;5;124m'\u001B[39m \u001B[38;5;129;01min\u001B[39;00m exceptionClassName:\n",
       "\u001B[1;32m    207\u001B[0m     \u001B[38;5;28;01mif\u001B[39;00m debugValue \u001B[38;5;129;01mis\u001B[39;00m \u001B[38;5;28;01mNone\u001B[39;00m:\n",
       "\u001B[0;32m--> 208\u001B[0m         \u001B[38;5;28;01mraise\u001B[39;00m \u001B[38;5;167;01mTypeError\u001B[39;00m(\n",
       "\u001B[1;32m    209\u001B[0m             \u001B[38;5;124m'\u001B[39m\u001B[38;5;124mMust pass debugValue when calling get outside of a job context. debugValue cannot be None.\u001B[39m\u001B[38;5;124m'\u001B[39m\n",
       "\u001B[1;32m    210\u001B[0m         ) \u001B[38;5;28;01mfrom\u001B[39;00m \u001B[38;5;28;01mNone\u001B[39;00m\n",
       "\u001B[1;32m    211\u001B[0m     \u001B[38;5;28;01mreturn\u001B[39;00m debugValue\n",
       "\u001B[1;32m    213\u001B[0m \u001B[38;5;28;01mraise\u001B[39;00m\n",
       "\n",
       "\u001B[0;31mTypeError\u001B[0m: Must pass debugValue when calling get outside of a job context. debugValue cannot be None."
      ]
     },
     "metadata": {
      "application/vnd.databricks.v1+output": {
       "addedWidgets": {},
       "arguments": {},
       "datasetInfos": [],
       "jupyterProps": {
        "ename": "TypeError",
        "evalue": "Must pass debugValue when calling get outside of a job context. debugValue cannot be None."
       },
       "metadata": {
        "errorSummary": "<span class='ansi-red-fg'>TypeError</span>: Must pass debugValue when calling get outside of a job context. debugValue cannot be None."
       },
       "removedWidgets": [],
       "sqlProps": null,
       "stackFrames": [
        "\u001B[0;31m---------------------------------------------------------------------------\u001B[0m",
        "\u001B[0;31mTypeError\u001B[0m                                 Traceback (most recent call last)",
        "File \u001B[0;32m<command-5145899039932207>, line 1\u001B[0m\n\u001B[0;32m----> 1\u001B[0m var \u001B[38;5;241m=\u001B[39m dbutils\u001B[38;5;241m.\u001B[39mjobs\u001B[38;5;241m.\u001B[39mtaskValues\u001B[38;5;241m.\u001B[39mget(\n\u001B[1;32m      2\u001B[0m     taskKey\u001B[38;5;241m=\u001B[39m\u001B[38;5;124m\"\u001B[39m\u001B[38;5;124mWeekdayLookup\u001B[39m\u001B[38;5;124m\"\u001B[39m,\n\u001B[1;32m      3\u001B[0m     key\u001B[38;5;241m=\u001B[39m\u001B[38;5;124m\"\u001B[39m\u001B[38;5;124mweekoutput\u001B[39m\u001B[38;5;124m\"\u001B[39m, debugValue\u001B[38;5;241m=\u001B[39m\u001B[38;5;28;01mNone\u001B[39;00m\n\u001B[1;32m      4\u001B[0m )\n",
        "File \u001B[0;32m/databricks/python_shell/lib/dbruntime/dbutils.py:208\u001B[0m, in \u001B[0;36mDBUtils.JobsHandler.TaskValuesHandler.get\u001B[0;34m(self, taskKey, key, default, debugValue)\u001B[0m\n\u001B[1;32m    206\u001B[0m \u001B[38;5;28;01melif\u001B[39;00m \u001B[38;5;124m'\u001B[39m\u001B[38;5;124mNotInJobContextException\u001B[39m\u001B[38;5;124m'\u001B[39m \u001B[38;5;129;01min\u001B[39;00m exceptionClassName:\n\u001B[1;32m    207\u001B[0m     \u001B[38;5;28;01mif\u001B[39;00m debugValue \u001B[38;5;129;01mis\u001B[39;00m \u001B[38;5;28;01mNone\u001B[39;00m:\n\u001B[0;32m--> 208\u001B[0m         \u001B[38;5;28;01mraise\u001B[39;00m \u001B[38;5;167;01mTypeError\u001B[39;00m(\n\u001B[1;32m    209\u001B[0m             \u001B[38;5;124m'\u001B[39m\u001B[38;5;124mMust pass debugValue when calling get outside of a job context. debugValue cannot be None.\u001B[39m\u001B[38;5;124m'\u001B[39m\n\u001B[1;32m    210\u001B[0m         ) \u001B[38;5;28;01mfrom\u001B[39;00m \u001B[38;5;28;01mNone\u001B[39;00m\n\u001B[1;32m    211\u001B[0m     \u001B[38;5;28;01mreturn\u001B[39;00m debugValue\n\u001B[1;32m    213\u001B[0m \u001B[38;5;28;01mraise\u001B[39;00m\n",
        "\u001B[0;31mTypeError\u001B[0m: Must pass debugValue when calling get outside of a job context. debugValue cannot be None."
       ],
       "type": "baseError"
      }
     },
     "output_type": "display_data"
    }
   ],
   "source": [
    "%python\n",
    "var = dbutils.jobs.taskValues.get(\n",
    "    taskKey=\"WeekdayLookup\",\n",
    "    key=\"weekoutput\", debugValue=None\n",
    ")"
   ]
  },
  {
   "cell_type": "code",
   "execution_count": 0,
   "metadata": {
    "application/vnd.databricks.v1+cell": {
     "cellMetadata": {
      "byteLimit": 2048000,
      "rowLimit": 10000
     },
     "inputWidgets": {},
     "nuid": "1ec38b0f-0270-4053-8b20-4c882a6531eb",
     "showTitle": false,
     "tableResultSettingsMap": {},
     "title": ""
    }
   },
   "outputs": [
    {
     "output_type": "stream",
     "name": "stdout",
     "output_type": "stream",
     "text": [
      "default_value\n"
     ]
    }
   ],
   "source": [
    "print(var)"
   ]
  }
 ],
 "metadata": {
  "application/vnd.databricks.v1+notebook": {
   "computePreferences": null,
   "dashboards": [],
   "environmentMetadata": {
    "base_environment": "",
    "environment_version": "2"
   },
   "inputWidgetPreferences": null,
   "language": "python",
   "notebookMetadata": {
    "pythonIndentUnit": 4
   },
   "notebookName": "6_falseNotebook",
   "widgets": {}
  },
  "language_info": {
   "name": "python"
  }
 },
 "nbformat": 4,
 "nbformat_minor": 0
}